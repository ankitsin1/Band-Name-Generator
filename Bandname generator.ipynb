{
 "cells": [
  {
   "cell_type": "code",
   "execution_count": 2,
   "id": "7fdbda5e",
   "metadata": {},
   "outputs": [
    {
     "name": "stdout",
     "output_type": "stream",
     "text": [
      "Welcome to the Band Name Generator\n",
      "What is your Good name?ggre\n",
      "What is your pet name?rger\n",
      "Your Band Name colud be ggre rger\n"
     ]
    }
   ],
   "source": [
    "print(\"Welcome to the Band Name Generator\")\n",
    "name=input(\"What is your Good name?\")\n",
    "pet=input(\"What is your pet name?\")\n",
    "print(\"Your Band Name colud be \"+name+\" \"+pet)"
   ]
  }
 ],
 "metadata": {
  "kernelspec": {
   "display_name": "Python 3 (ipykernel)",
   "language": "python",
   "name": "python3"
  },
  "language_info": {
   "codemirror_mode": {
    "name": "ipython",
    "version": 3
   },
   "file_extension": ".py",
   "mimetype": "text/x-python",
   "name": "python",
   "nbconvert_exporter": "python",
   "pygments_lexer": "ipython3",
   "version": "3.9.12"
  }
 },
 "nbformat": 4,
 "nbformat_minor": 5
}
